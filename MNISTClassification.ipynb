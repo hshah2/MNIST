{
  "nbformat": 4,
  "nbformat_minor": 0,
  "metadata": {
    "colab": {
      "name": "MNIST Classification.ipynb",
      "version": "0.3.2",
      "provenance": [],
      "collapsed_sections": []
    },
    "kernelspec": {
      "name": "python3",
      "display_name": "Python 3"
    },
    "accelerator": "GPU"
  },
  "cells": [
    {
      "metadata": {
        "id": "UmkfpEG3HrFj",
        "colab_type": "text"
      },
      "cell_type": "markdown",
      "source": [
        "## Importing Modules\n"
      ]
    },
    {
      "metadata": {
        "id": "VTdWn3nFcNqI",
        "colab_type": "code",
        "outputId": "b41d2b23-b7b2-4596-f1c7-7f56cf7c9624",
        "colab": {
          "base_uri": "https://localhost:8080/",
          "height": 35
        }
      },
      "cell_type": "code",
      "source": [
        "from keras.datasets import mnist\n",
        "import matplotlib.pyplot as plt\n",
        "import numpy\n",
        "from keras.models import Sequential\n",
        "from keras.layers import Dense\n",
        "from keras.layers import Dropout\n",
        "from keras.utils import np_utils\n",
        "\n",
        "seed = 7\n",
        "numpy.random.seed(seed)\n"
      ],
      "execution_count": 0,
      "outputs": [
        {
          "output_type": "stream",
          "text": [
            "Using TensorFlow backend.\n"
          ],
          "name": "stderr"
        }
      ]
    },
    {
      "metadata": {
        "id": "NGjG5zDqIUmh",
        "colab_type": "text"
      },
      "cell_type": "markdown",
      "source": [
        "### Bring in Data, check the data"
      ]
    },
    {
      "metadata": {
        "id": "craQklaoJ4jl",
        "colab_type": "code",
        "outputId": "df44593f-e1c3-494c-f005-cb03b1375bb2",
        "colab": {
          "base_uri": "https://localhost:8080/",
          "height": 53
        }
      },
      "cell_type": "code",
      "source": [
        "(X_train, Y_train), (X_test, Y_test) = mnist.load_data()\n"
      ],
      "execution_count": 0,
      "outputs": [
        {
          "output_type": "stream",
          "text": [
            "Downloading data from https://s3.amazonaws.com/img-datasets/mnist.npz\n",
            "11493376/11490434 [==============================] - 1s 0us/step\n"
          ],
          "name": "stdout"
        }
      ]
    },
    {
      "metadata": {
        "id": "MPbejC-aVHBB",
        "colab_type": "code",
        "outputId": "44f47cf3-647e-410c-b12b-ef2957b3720d",
        "colab": {
          "base_uri": "https://localhost:8080/",
          "height": 34
        }
      },
      "cell_type": "code",
      "source": [
        "X_test.shape"
      ],
      "execution_count": 0,
      "outputs": [
        {
          "output_type": "execute_result",
          "data": {
            "text/plain": [
              "(10000, 28, 28)"
            ]
          },
          "metadata": {
            "tags": []
          },
          "execution_count": 3
        }
      ]
    },
    {
      "metadata": {
        "id": "OLjq1p0zIS9d",
        "colab_type": "code",
        "outputId": "d23056c7-3db4-4645-8ba4-78c4530ab869",
        "colab": {
          "base_uri": "https://localhost:8080/",
          "height": 365
        }
      },
      "cell_type": "code",
      "source": [
        "\n",
        "\n",
        "plt.imshow(X_train[2050], cmap=plt.get_cmap('gray'))\n",
        "plt.show()\n",
        "print(Y_train[20000])\n",
        "\n",
        "\n",
        "\n"
      ],
      "execution_count": 0,
      "outputs": [
        {
          "output_type": "display_data",
          "data": {
            "image/png": "[encoded data removed]",
            "text/plain": [
              "<matplotlib.figure.Figure at 0x7f5c38712da0>"
            ]
          },
          "metadata": {
            "tags": []
          }
        },
        {
          "output_type": "stream",
          "text": [
            "5\n"
          ],
          "name": "stdout"
        }
      ]
    },
    {
      "metadata": {
        "id": "urZCw1lhbKTv",
        "colab_type": "text"
      },
      "cell_type": "markdown",
      "source": [
        "## Perform required preprocessing, and make it ready for machine learning algorithim."
      ]
    },
    {
      "metadata": {
        "id": "fmmHicDjML9D",
        "colab_type": "code",
        "colab": {}
      },
      "cell_type": "code",
      "source": [
        "num_of_pixels = X_train.shape[1] * X_train.shape[2]\n",
        "X_train = X_train.reshape(X_train.shape[0], num_of_pixels).astype('float32')\n",
        "X_test = X_test.reshape(X_test.shape[0], num_of_pixels).astype('float32')\n",
        "X_train = X_train / 255\n",
        "X_test = X_test / 255\n",
        "\n",
        "\n"
      ],
      "execution_count": 0,
      "outputs": []
    },
    {
      "metadata": {
        "id": "nlAPyfKANwY6",
        "colab_type": "code",
        "colab": {}
      },
      "cell_type": "code",
      "source": [
        "Y_train = np_utils.to_categorical(Y_train)\n",
        "Y_test = np_utils.to_categorical(Y_test)\n",
        "num_classes = Y_test.shape[1]\n",
        "\n",
        "\n"
      ],
      "execution_count": 0,
      "outputs": []
    },
    {
      "metadata": {
        "id": "Dh33teIwaj8D",
        "colab_type": "text"
      },
      "cell_type": "markdown",
      "source": [
        "## Create the network "
      ]
    },
    {
      "metadata": {
        "id": "v3mt6u-3UlbO",
        "colab_type": "code",
        "colab": {}
      },
      "cell_type": "code",
      "source": [
        "\n",
        "my_model = Sequential()\n",
        "my_model.add(Dense(100, input_dim=num_of_pixels, activation='relu'))\n",
        "my_model.add(Dense(100,activation='relu'))\n",
        "\n",
        "\n",
        "my_model.add(Dense(num_classes, activation='softmax'))\n"
      ],
      "execution_count": 0,
      "outputs": []
    },
    {
      "metadata": {
        "id": "84GKgMdVbmHI",
        "colab_type": "text"
      },
      "cell_type": "markdown",
      "source": [
        "## Configure and compile the network"
      ]
    },
    {
      "metadata": {
        "id": "VzpkHT3-bwQl",
        "colab_type": "code",
        "colab": {}
      },
      "cell_type": "code",
      "source": [
        "my_model.compile(loss='categorical_crossentropy', optimizer='Adam', metrics=['accuracy'])\n",
        "\n"
      ],
      "execution_count": 0,
      "outputs": []
    },
    {
      "metadata": {
        "id": "ad-pqAStbyvO",
        "colab_type": "text"
      },
      "cell_type": "markdown",
      "source": [
        "## Train the network"
      ]
    },
    {
      "metadata": {
        "id": "SDJjMCuqb7KF",
        "colab_type": "code",
        "outputId": "94814282-0995-4fcb-d05e-69c827dac183",
        "colab": {
          "base_uri": "https://localhost:8080/",
          "height": 1771
        }
      },
      "cell_type": "code",
      "source": [
        "my_model.fit(X_train, Y_train, epochs=50, batch_size=200, verbose=2)\n",
        "\n",
        "\n"
      ],
      "execution_count": 0,
      "outputs": [
        {
          "output_type": "stream",
          "text": [
            "Epoch 1/50\n",
            " - 3s - loss: 2.1629 - acc: 0.1471\n",
            "Epoch 2/50\n",
            " - 3s - loss: 2.0435 - acc: 0.1872\n",
            "Epoch 3/50\n",
            " - 3s - loss: 1.9644 - acc: 0.2033\n",
            "Epoch 4/50\n",
            " - 3s - loss: 1.9024 - acc: 0.2306\n",
            "Epoch 5/50\n",
            " - 2s - loss: 1.8541 - acc: 0.2663\n",
            "Epoch 6/50\n",
            " - 1s - loss: 1.8114 - acc: 0.2936\n",
            "Epoch 7/50\n",
            " - 1s - loss: 1.7690 - acc: 0.3079\n",
            "Epoch 8/50\n",
            " - 1s - loss: 1.7332 - acc: 0.3145\n",
            "Epoch 9/50\n",
            " - 1s - loss: 1.7068 - acc: 0.3271\n",
            "Epoch 10/50\n",
            " - 1s - loss: 1.6859 - acc: 0.3375\n",
            "Epoch 11/50\n",
            " - 1s - loss: 1.6685 - acc: 0.3457\n",
            "Epoch 12/50\n",
            " - 1s - loss: 1.6532 - acc: 0.3475\n",
            "Epoch 13/50\n",
            " - 2s - loss: 1.6402 - acc: 0.3435\n",
            "Epoch 14/50\n",
            " - 2s - loss: 1.6290 - acc: 0.3373\n",
            "Epoch 15/50\n",
            " - 2s - loss: 1.6190 - acc: 0.3309\n",
            "Epoch 16/50\n",
            " - 1s - loss: 1.6105 - acc: 0.3256\n",
            "Epoch 17/50\n",
            " - 2s - loss: 1.6028 - acc: 0.3238\n",
            "Epoch 18/50\n",
            " - 1s - loss: 1.5961 - acc: 0.3535\n",
            "Epoch 19/50\n",
            " - 2s - loss: 1.5896 - acc: 0.3591\n",
            "Epoch 20/50\n",
            " - 2s - loss: 1.5833 - acc: 0.3630\n",
            "Epoch 21/50\n",
            " - 2s - loss: 1.5773 - acc: 0.3667\n",
            "Epoch 22/50\n",
            " - 2s - loss: 1.5716 - acc: 0.3693\n",
            "Epoch 23/50\n",
            " - 2s - loss: 1.5659 - acc: 0.3708\n",
            "Epoch 24/50\n",
            " - 2s - loss: 1.5607 - acc: 0.3710\n",
            "Epoch 25/50\n",
            " - 2s - loss: 1.5556 - acc: 0.3724\n",
            "Epoch 26/50\n",
            " - 2s - loss: 1.5506 - acc: 0.3705\n",
            "Epoch 27/50\n",
            " - 2s - loss: 1.5459 - acc: 0.3707\n",
            "Epoch 28/50\n",
            " - 2s - loss: 1.5415 - acc: 0.3712\n",
            "Epoch 29/50\n",
            " - 2s - loss: 1.5372 - acc: 0.3742\n",
            "Epoch 30/50\n",
            " - 2s - loss: 1.5329 - acc: 0.3774\n",
            "Epoch 31/50\n",
            " - 2s - loss: 1.5292 - acc: 0.3795\n",
            "Epoch 32/50\n",
            " - 2s - loss: 1.5258 - acc: 0.3834\n",
            "Epoch 33/50\n",
            " - 2s - loss: 1.5225 - acc: 0.3835\n",
            "Epoch 34/50\n",
            " - 2s - loss: 1.5192 - acc: 0.3849\n",
            "Epoch 35/50\n",
            " - 2s - loss: 1.5164 - acc: 0.3867\n",
            "Epoch 36/50\n",
            " - 2s - loss: 1.5143 - acc: 0.3888\n",
            "Epoch 37/50\n",
            " - 2s - loss: 1.5117 - acc: 0.3893\n",
            "Epoch 38/50\n",
            " - 2s - loss: 1.5096 - acc: 0.3923\n",
            "Epoch 39/50\n",
            " - 2s - loss: 1.5079 - acc: 0.3914\n",
            "Epoch 40/50\n",
            " - 2s - loss: 1.5061 - acc: 0.3920\n",
            "Epoch 41/50\n",
            " - 2s - loss: 1.5045 - acc: 0.3937\n",
            "Epoch 42/50\n",
            " - 2s - loss: 1.5030 - acc: 0.3929\n",
            "Epoch 43/50\n",
            " - 2s - loss: 1.5015 - acc: 0.3941\n",
            "Epoch 44/50\n",
            " - 2s - loss: 1.5006 - acc: 0.3941\n",
            "Epoch 45/50\n",
            " - 2s - loss: 1.4991 - acc: 0.3942\n",
            "Epoch 46/50\n",
            " - 2s - loss: 1.4983 - acc: 0.3960\n",
            "Epoch 47/50\n",
            " - 2s - loss: 1.4974 - acc: 0.3958\n",
            "Epoch 48/50\n",
            " - 2s - loss: 1.4961 - acc: 0.3961\n",
            "Epoch 49/50\n",
            " - 2s - loss: 1.4954 - acc: 0.3960\n",
            "Epoch 50/50\n",
            " - 2s - loss: 1.4944 - acc: 0.3969\n"
          ],
          "name": "stdout"
        },
        {
          "output_type": "execute_result",
          "data": {
            "text/plain": [
              "<keras.callbacks.History at 0x7fad04b07ac8>"
            ]
          },
          "metadata": {
            "tags": []
          },
          "execution_count": 26
        }
      ]
    },
    {
      "metadata": {
        "id": "SVKRlz8jb_fV",
        "colab_type": "text"
      },
      "cell_type": "markdown",
      "source": [
        "## Evaluate the performance (test your hypothesis)"
      ]
    },
    {
      "metadata": {
        "id": "wfgxBjMGb9eQ",
        "colab_type": "code",
        "outputId": "720827e4-3231-4e05-877b-fa23ee35d22a",
        "colab": {
          "base_uri": "https://localhost:8080/",
          "height": 34
        }
      },
      "cell_type": "code",
      "source": [
        "scores = my_model.evaluate(X_test, Y_test, verbose=0)\n",
        "print(\"Error: %.2f%%\" % (100-scores[1]*100))"
      ],
      "execution_count": 0,
      "outputs": [
        {
          "output_type": "stream",
          "text": [
            "Error: 9.55%\n"
          ],
          "name": "stdout"
        }
      ]
    },
    {
      "metadata": {
        "id": "AvbiZ1uibj0p",
        "colab_type": "text"
      },
      "cell_type": "markdown",
      "source": [
        ""
      ]
    }
  ]
}